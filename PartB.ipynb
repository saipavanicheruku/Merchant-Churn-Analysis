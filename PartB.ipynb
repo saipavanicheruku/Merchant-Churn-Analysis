{
 "cells": [
  {
   "cell_type": "markdown",
   "id": "08a8b6c6",
   "metadata": {},
   "source": [
    "# Part B - Merchant Churn Analysis"
   ]
  },
  {
   "cell_type": "code",
   "execution_count": 33,
   "id": "aa27f84c",
   "metadata": {},
   "outputs": [],
   "source": [
    "import pandas as pd\n",
    "import numpy as np\n",
    "import matplotlib.pyplot as plt\n",
    "import seaborn as sb"
   ]
  },
  {
   "cell_type": "markdown",
   "id": "862718dd",
   "metadata": {},
   "source": [
    "### Step1 - Data Preparation"
   ]
  },
  {
   "cell_type": "code",
   "execution_count": 34,
   "id": "8d471fb2",
   "metadata": {},
   "outputs": [
    {
     "data": {
      "text/html": [
       "<div>\n",
       "<style scoped>\n",
       "    .dataframe tbody tr th:only-of-type {\n",
       "        vertical-align: middle;\n",
       "    }\n",
       "\n",
       "    .dataframe tbody tr th {\n",
       "        vertical-align: top;\n",
       "    }\n",
       "\n",
       "    .dataframe thead th {\n",
       "        text-align: right;\n",
       "    }\n",
       "</style>\n",
       "<table border=\"1\" class=\"dataframe\">\n",
       "  <thead>\n",
       "    <tr style=\"text-align: right;\">\n",
       "      <th></th>\n",
       "      <th>Unnamed: 0</th>\n",
       "      <th>merchant</th>\n",
       "      <th>time</th>\n",
       "      <th>amount_usd_in_cents</th>\n",
       "    </tr>\n",
       "  </thead>\n",
       "  <tbody>\n",
       "    <tr>\n",
       "      <th>0</th>\n",
       "      <td>1</td>\n",
       "      <td>faa029c6b0</td>\n",
       "      <td>2034-06-17 23:34:14</td>\n",
       "      <td>6349</td>\n",
       "    </tr>\n",
       "    <tr>\n",
       "      <th>1</th>\n",
       "      <td>2</td>\n",
       "      <td>ed7a7d91aa</td>\n",
       "      <td>2034-12-27 00:40:38</td>\n",
       "      <td>3854</td>\n",
       "    </tr>\n",
       "    <tr>\n",
       "      <th>2</th>\n",
       "      <td>3</td>\n",
       "      <td>5608f200cf</td>\n",
       "      <td>2034-04-30 01:29:42</td>\n",
       "      <td>789</td>\n",
       "    </tr>\n",
       "    <tr>\n",
       "      <th>3</th>\n",
       "      <td>4</td>\n",
       "      <td>15b1a0d61e</td>\n",
       "      <td>2034-09-16 01:06:23</td>\n",
       "      <td>4452</td>\n",
       "    </tr>\n",
       "    <tr>\n",
       "      <th>4</th>\n",
       "      <td>5</td>\n",
       "      <td>4770051790</td>\n",
       "      <td>2034-07-22 16:21:42</td>\n",
       "      <td>20203</td>\n",
       "    </tr>\n",
       "  </tbody>\n",
       "</table>\n",
       "</div>"
      ],
      "text/plain": [
       "   Unnamed: 0    merchant                 time  amount_usd_in_cents\n",
       "0           1  faa029c6b0  2034-06-17 23:34:14                 6349\n",
       "1           2  ed7a7d91aa  2034-12-27 00:40:38                 3854\n",
       "2           3  5608f200cf  2034-04-30 01:29:42                  789\n",
       "3           4  15b1a0d61e  2034-09-16 01:06:23                 4452\n",
       "4           5  4770051790  2034-07-22 16:21:42                20203"
      ]
     },
     "execution_count": 34,
     "metadata": {},
     "output_type": "execute_result"
    }
   ],
   "source": [
    "#Loading the data set\n",
    "df = pd.read_csv('takehome_ds_written.csv')\n",
    "df.head()"
   ]
  },
  {
   "cell_type": "code",
   "execution_count": 35,
   "id": "f27d3c4f",
   "metadata": {},
   "outputs": [
    {
     "data": {
      "text/html": [
       "<div>\n",
       "<style scoped>\n",
       "    .dataframe tbody tr th:only-of-type {\n",
       "        vertical-align: middle;\n",
       "    }\n",
       "\n",
       "    .dataframe tbody tr th {\n",
       "        vertical-align: top;\n",
       "    }\n",
       "\n",
       "    .dataframe thead th {\n",
       "        text-align: right;\n",
       "    }\n",
       "</style>\n",
       "<table border=\"1\" class=\"dataframe\">\n",
       "  <thead>\n",
       "    <tr style=\"text-align: right;\">\n",
       "      <th></th>\n",
       "      <th>merchant</th>\n",
       "      <th>time</th>\n",
       "      <th>amount_usd</th>\n",
       "    </tr>\n",
       "  </thead>\n",
       "  <tbody>\n",
       "    <tr>\n",
       "      <th>0</th>\n",
       "      <td>faa029c6b0</td>\n",
       "      <td>2034-06-17 23:34:14</td>\n",
       "      <td>63.49</td>\n",
       "    </tr>\n",
       "    <tr>\n",
       "      <th>1</th>\n",
       "      <td>ed7a7d91aa</td>\n",
       "      <td>2034-12-27 00:40:38</td>\n",
       "      <td>38.54</td>\n",
       "    </tr>\n",
       "    <tr>\n",
       "      <th>2</th>\n",
       "      <td>5608f200cf</td>\n",
       "      <td>2034-04-30 01:29:42</td>\n",
       "      <td>7.89</td>\n",
       "    </tr>\n",
       "    <tr>\n",
       "      <th>3</th>\n",
       "      <td>15b1a0d61e</td>\n",
       "      <td>2034-09-16 01:06:23</td>\n",
       "      <td>44.52</td>\n",
       "    </tr>\n",
       "    <tr>\n",
       "      <th>4</th>\n",
       "      <td>4770051790</td>\n",
       "      <td>2034-07-22 16:21:42</td>\n",
       "      <td>202.03</td>\n",
       "    </tr>\n",
       "  </tbody>\n",
       "</table>\n",
       "</div>"
      ],
      "text/plain": [
       "     merchant                time  amount_usd\n",
       "0  faa029c6b0 2034-06-17 23:34:14       63.49\n",
       "1  ed7a7d91aa 2034-12-27 00:40:38       38.54\n",
       "2  5608f200cf 2034-04-30 01:29:42        7.89\n",
       "3  15b1a0d61e 2034-09-16 01:06:23       44.52\n",
       "4  4770051790 2034-07-22 16:21:42      202.03"
      ]
     },
     "execution_count": 35,
     "metadata": {},
     "output_type": "execute_result"
    }
   ],
   "source": [
    "df = df.drop(columns=\"Unnamed: 0\")\n",
    "df[\"amount_usd\"] = df[\"amount_usd_in_cents\"]/100\n",
    "df = df.drop(columns=\"amount_usd_in_cents\")\n",
    "df[\"time\"] = pd.to_datetime(df[\"time\"])\n",
    "df.head()"
   ]
  },
  {
   "cell_type": "markdown",
   "id": "d0eb12a1",
   "metadata": {},
   "source": [
    "### Step2 - Defining Churn and model for identifying merchant churn"
   ]
  },
  {
   "cell_type": "code",
   "execution_count": 36,
   "id": "b675bf08",
   "metadata": {},
   "outputs": [],
   "source": [
    "#No of days between consecutive transactions of each merchant in day format \"days_btwn_consecutive\"\n",
    "df2 = df.sort_values([\"merchant\",\"time\"]).reset_index(drop=True)\n",
    "df2['days_btwn_consecutive'] = df2.groupby(\"merchant\")[\"time\"].diff()\n",
    "df2[\"days_btwn_consecutive\"] = df2[\"days_btwn_consecutive\"].dt.days"
   ]
  },
  {
   "cell_type": "code",
   "execution_count": 37,
   "id": "1c8e7039",
   "metadata": {},
   "outputs": [
    {
     "data": {
      "text/html": [
       "<div>\n",
       "<style scoped>\n",
       "    .dataframe tbody tr th:only-of-type {\n",
       "        vertical-align: middle;\n",
       "    }\n",
       "\n",
       "    .dataframe tbody tr th {\n",
       "        vertical-align: top;\n",
       "    }\n",
       "\n",
       "    .dataframe thead th {\n",
       "        text-align: right;\n",
       "    }\n",
       "</style>\n",
       "<table border=\"1\" class=\"dataframe\">\n",
       "  <thead>\n",
       "    <tr style=\"text-align: right;\">\n",
       "      <th></th>\n",
       "      <th>merchant</th>\n",
       "      <th>time</th>\n",
       "      <th>amount_usd</th>\n",
       "      <th>days_btwn_consecutive</th>\n",
       "    </tr>\n",
       "  </thead>\n",
       "  <tbody>\n",
       "    <tr>\n",
       "      <th>0</th>\n",
       "      <td>0002b63b92</td>\n",
       "      <td>2033-05-16 20:07:57</td>\n",
       "      <td>33.79</td>\n",
       "      <td>NaN</td>\n",
       "    </tr>\n",
       "    <tr>\n",
       "      <th>1</th>\n",
       "      <td>0002d07bba</td>\n",
       "      <td>2034-10-11 17:02:26</td>\n",
       "      <td>55.49</td>\n",
       "      <td>NaN</td>\n",
       "    </tr>\n",
       "    <tr>\n",
       "      <th>2</th>\n",
       "      <td>0002d07bba</td>\n",
       "      <td>2034-10-17 17:57:32</td>\n",
       "      <td>378.30</td>\n",
       "      <td>6.0</td>\n",
       "    </tr>\n",
       "    <tr>\n",
       "      <th>3</th>\n",
       "      <td>0002d07bba</td>\n",
       "      <td>2034-11-13 15:42:55</td>\n",
       "      <td>438.42</td>\n",
       "      <td>26.0</td>\n",
       "    </tr>\n",
       "    <tr>\n",
       "      <th>4</th>\n",
       "      <td>0002d07bba</td>\n",
       "      <td>2034-12-15 09:56:19</td>\n",
       "      <td>20.57</td>\n",
       "      <td>31.0</td>\n",
       "    </tr>\n",
       "  </tbody>\n",
       "</table>\n",
       "</div>"
      ],
      "text/plain": [
       "     merchant                time  amount_usd  days_btwn_consecutive\n",
       "0  0002b63b92 2033-05-16 20:07:57       33.79                    NaN\n",
       "1  0002d07bba 2034-10-11 17:02:26       55.49                    NaN\n",
       "2  0002d07bba 2034-10-17 17:57:32      378.30                    6.0\n",
       "3  0002d07bba 2034-11-13 15:42:55      438.42                   26.0\n",
       "4  0002d07bba 2034-12-15 09:56:19       20.57                   31.0"
      ]
     },
     "execution_count": 37,
     "metadata": {},
     "output_type": "execute_result"
    }
   ],
   "source": [
    "df2.head()"
   ]
  },
  {
   "cell_type": "code",
   "execution_count": 38,
   "id": "118faf44",
   "metadata": {},
   "outputs": [],
   "source": [
    "#Data frame consisting of each merchant and their respective last transaction\n",
    "df_last = df2.groupby(\"merchant\")[\"time\"].tail(1).to_frame()\n",
    "#Tagging each merchant to show if the 'days_btwn_consecutive' is >180 days in 'consec_flag180'\n",
    "df_last[\"consec_flag180\"] = np.where(df2.groupby(\"merchant\")[\"days_btwn_consecutive\"].max() >= 180, '>180', '<180')"
   ]
  },
  {
   "cell_type": "code",
   "execution_count": 39,
   "id": "69cd4b73",
   "metadata": {},
   "outputs": [],
   "source": [
    "#Adding merchant and the last transaction in the dataset to the data frame df-last\n",
    "df_last[\"merchant\"] = df2[\"merchant\"].unique()\n",
    "df_last[\"last_transaction\"] = df.sort_values(\"time\").iloc[-1,1]"
   ]
  },
  {
   "cell_type": "code",
   "execution_count": 40,
   "id": "207e18b1",
   "metadata": {},
   "outputs": [],
   "source": [
    "#No of days between each merchant's last transaction and the end date in the data set 'days_btwn_lasttransact'\n",
    "df_last[\"days_btwn_lasttransact\"] = df_last[\"last_transaction\"] - df_last[\"time\"]\n",
    "df_last[\"days_btwn_lasttransact\"] = df_last[\"days_btwn_lasttransact\"].dt.days"
   ]
  },
  {
   "cell_type": "code",
   "execution_count": 41,
   "id": "137046f3",
   "metadata": {},
   "outputs": [
    {
     "data": {
      "text/html": [
       "<div>\n",
       "<style scoped>\n",
       "    .dataframe tbody tr th:only-of-type {\n",
       "        vertical-align: middle;\n",
       "    }\n",
       "\n",
       "    .dataframe tbody tr th {\n",
       "        vertical-align: top;\n",
       "    }\n",
       "\n",
       "    .dataframe thead th {\n",
       "        text-align: right;\n",
       "    }\n",
       "</style>\n",
       "<table border=\"1\" class=\"dataframe\">\n",
       "  <thead>\n",
       "    <tr style=\"text-align: right;\">\n",
       "      <th></th>\n",
       "      <th>time</th>\n",
       "      <th>consec_flag180</th>\n",
       "      <th>merchant</th>\n",
       "      <th>last_transaction</th>\n",
       "      <th>days_btwn_lasttransact</th>\n",
       "      <th>lasttransact_flag180</th>\n",
       "    </tr>\n",
       "  </thead>\n",
       "  <tbody>\n",
       "    <tr>\n",
       "      <th>0</th>\n",
       "      <td>2033-05-16 20:07:57</td>\n",
       "      <td>&lt;180</td>\n",
       "      <td>0002b63b92</td>\n",
       "      <td>2034-12-31 07:59:40</td>\n",
       "      <td>593</td>\n",
       "      <td>&gt;180</td>\n",
       "    </tr>\n",
       "    <tr>\n",
       "      <th>4</th>\n",
       "      <td>2034-12-15 09:56:19</td>\n",
       "      <td>&lt;180</td>\n",
       "      <td>0002d07bba</td>\n",
       "      <td>2034-12-31 07:59:40</td>\n",
       "      <td>15</td>\n",
       "      <td>&lt;180</td>\n",
       "    </tr>\n",
       "    <tr>\n",
       "      <th>32</th>\n",
       "      <td>2033-08-04 04:26:40</td>\n",
       "      <td>&lt;180</td>\n",
       "      <td>00057d4302</td>\n",
       "      <td>2034-12-31 07:59:40</td>\n",
       "      <td>514</td>\n",
       "      <td>&gt;180</td>\n",
       "    </tr>\n",
       "    <tr>\n",
       "      <th>33</th>\n",
       "      <td>2033-08-09 20:18:36</td>\n",
       "      <td>&lt;180</td>\n",
       "      <td>000bcff341</td>\n",
       "      <td>2034-12-31 07:59:40</td>\n",
       "      <td>508</td>\n",
       "      <td>&gt;180</td>\n",
       "    </tr>\n",
       "    <tr>\n",
       "      <th>34</th>\n",
       "      <td>2033-06-02 13:25:12</td>\n",
       "      <td>&lt;180</td>\n",
       "      <td>000ddbf0ca</td>\n",
       "      <td>2034-12-31 07:59:40</td>\n",
       "      <td>576</td>\n",
       "      <td>&gt;180</td>\n",
       "    </tr>\n",
       "  </tbody>\n",
       "</table>\n",
       "</div>"
      ],
      "text/plain": [
       "                  time consec_flag180    merchant    last_transaction  \\\n",
       "0  2033-05-16 20:07:57           <180  0002b63b92 2034-12-31 07:59:40   \n",
       "4  2034-12-15 09:56:19           <180  0002d07bba 2034-12-31 07:59:40   \n",
       "32 2033-08-04 04:26:40           <180  00057d4302 2034-12-31 07:59:40   \n",
       "33 2033-08-09 20:18:36           <180  000bcff341 2034-12-31 07:59:40   \n",
       "34 2033-06-02 13:25:12           <180  000ddbf0ca 2034-12-31 07:59:40   \n",
       "\n",
       "    days_btwn_lasttransact lasttransact_flag180  \n",
       "0                      593                 >180  \n",
       "4                       15                 <180  \n",
       "32                     514                 >180  \n",
       "33                     508                 >180  \n",
       "34                     576                 >180  "
      ]
     },
     "execution_count": 41,
     "metadata": {},
     "output_type": "execute_result"
    }
   ],
   "source": [
    "#Tagging each merchant to show if the 'days_btwn_consecutive' is >180 days in 'consec_flag180'\n",
    "df_last[\"lasttransact_flag180\"] = np.where(df_last[\"days_btwn_lasttransact\"] >= 180, '>180', '<180')\n",
    "df_last.head()"
   ]
  },
  {
   "cell_type": "code",
   "execution_count": 43,
   "id": "5f44cac0",
   "metadata": {},
   "outputs": [
    {
     "data": {
      "text/plain": [
       "1504"
      ]
     },
     "execution_count": 43,
     "metadata": {},
     "output_type": "execute_result"
    }
   ],
   "source": [
    "#No of merchants that were inactive for 180 days but came back eventualy in the given time period\n",
    "returning = df_last.loc[df_last[\"consec_flag180\"]==\">180\"].shape[0]\n",
    "returning"
   ]
  },
  {
   "cell_type": "code",
   "execution_count": 44,
   "id": "b0953617",
   "metadata": {},
   "outputs": [
    {
     "data": {
      "text/plain": [
       "3856"
      ]
     },
     "execution_count": 44,
     "metadata": {},
     "output_type": "execute_result"
    }
   ],
   "source": [
    "#No of merchants that we can call churned based on the churn period selected (180 days)\n",
    "churned = df_last.loc[(df_last[\"consec_flag180\"]==\"<180\") & (df_last[\"lasttransact_flag180\"]==\">180\")].shape[0]\n",
    "churned"
   ]
  },
  {
   "cell_type": "code",
   "execution_count": 45,
   "id": "31b56263",
   "metadata": {},
   "outputs": [
    {
     "data": {
      "text/plain": [
       "8991"
      ]
     },
     "execution_count": 45,
     "metadata": {},
     "output_type": "execute_result"
    }
   ],
   "source": [
    "#No of merchants that we can call say have not churned based on the churn period selected (180 days)\n",
    "df_last.loc[(df_last[\"consec_flag180\"]==\"<180\") & (df_last[\"lasttransact_flag180\"]==\"<180\")].shape[0]"
   ]
  },
  {
   "cell_type": "code",
   "execution_count": 53,
   "id": "15b1383d",
   "metadata": {},
   "outputs": [
    {
     "data": {
      "text/plain": [
       "71.94029850746269"
      ]
     },
     "execution_count": 53,
     "metadata": {},
     "output_type": "execute_result"
    }
   ],
   "source": [
    "#Merchant churn percentage under the churn period 180 days consideration\n",
    "churn_percentage = churned / (churned+returning) *100\n",
    "churn_percentage"
   ]
  },
  {
   "cell_type": "code",
   "execution_count": 52,
   "id": "2c66a964",
   "metadata": {},
   "outputs": [
    {
     "data": {
      "text/plain": [
       "0          0002b63b92\n",
       "32         00057d4302\n",
       "33         000bcff341\n",
       "34         000ddbf0ca\n",
       "387        001f7b7a4f\n",
       "              ...    \n",
       "1513492    ffc46fd720\n",
       "1513494    ffc5a319bb\n",
       "1513535    ffd3e45675\n",
       "1513588    ffe1f6b51a\n",
       "1513672    ffec05edb9\n",
       "Name: merchant, Length: 3856, dtype: object"
      ]
     },
     "execution_count": 52,
     "metadata": {},
     "output_type": "execute_result"
    }
   ],
   "source": [
    "#List of merchants that have churned\n",
    "df_churn = df_last.loc[(df_last[\"consec_flag180\"] == \"<180\") & (df_last[\"lasttransact_flag180\"] == \">180\")]\n",
    "df_churn[\"merchant\"]"
   ]
  }
 ],
 "metadata": {
  "kernelspec": {
   "display_name": "Python 3 (ipykernel)",
   "language": "python",
   "name": "python3"
  },
  "language_info": {
   "codemirror_mode": {
    "name": "ipython",
    "version": 3
   },
   "file_extension": ".py",
   "mimetype": "text/x-python",
   "name": "python",
   "nbconvert_exporter": "python",
   "pygments_lexer": "ipython3",
   "version": "3.9.7"
  }
 },
 "nbformat": 4,
 "nbformat_minor": 5
}
